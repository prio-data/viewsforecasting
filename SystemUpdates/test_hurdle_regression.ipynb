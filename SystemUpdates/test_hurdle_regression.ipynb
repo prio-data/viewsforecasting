{
 "cells": [
  {
   "cell_type": "code",
   "execution_count": 1,
   "id": "8855fab3",
   "metadata": {},
   "outputs": [],
   "source": [
    "%load_ext autoreload\n",
    "%autoreload 2"
   ]
  },
  {
   "cell_type": "code",
   "execution_count": 2,
   "id": "ef27dd3d",
   "metadata": {},
   "outputs": [],
   "source": [
    "import settings # to append paths\n",
    "\n",
    "from Tools.models.model_tests import test_hurdle_regression, test_fixed_first_split_regression\n",
    "from Tools.models.hurdle_regression_model import HurdleRegression"
   ]
  },
  {
   "cell_type": "markdown",
   "metadata": {},
   "source": [
    "## Test Hurdle Regression"
   ]
  },
  {
   "cell_type": "code",
   "execution_count": 3,
   "metadata": {},
   "outputs": [],
   "source": [
    "model_pairs = (\n",
    "    ['logistic', 'linear'], \n",
    "    ['LGBMClassifier', 'LGBMRegressor'],\n",
    "    ['RFClassifier', 'RFRegressor'],\n",
    "    ['XGBRFClassifier', 'XGBRFRegressor'],\n",
    "    ['GBMClassifier', 'GBMRegressor'],\n",
    "    ['XGBClassifier', 'XGBRegressor'],\n",
    "    ['HGBClassifier' , 'HGBRegressor'],\n",
    "    )"
   ]
  },
  {
   "cell_type": "code",
   "execution_count": 6,
   "metadata": {},
   "outputs": [
    {
     "name": "stdout",
     "output_type": "stream",
     "text": [
      "Mean Squared Error for combined predictions with positive class probability from the classifier: 6338\n",
      "Mean Squared Error or combined predictions with binary outcome from the classifier: 5458\n"
     ]
    }
   ],
   "source": [
    "clf_name = 'RFClassifier'\n",
    "reg_name = 'RFRegressor'\n",
    "\n",
    "test_hurdle_regression(clf_name=clf_name, reg_name=reg_name)"
   ]
  }
 ],
 "metadata": {
  "kernelspec": {
   "display_name": "Python 3 (ipykernel)",
   "language": "python",
   "name": "python3"
  },
  "language_info": {
   "codemirror_mode": {
    "name": "ipython",
    "version": 3
   },
   "file_extension": ".py",
   "mimetype": "text/x-python",
   "name": "python",
   "nbconvert_exporter": "python",
   "pygments_lexer": "ipython3",
   "version": "3.10.8"
  }
 },
 "nbformat": 4,
 "nbformat_minor": 5
}

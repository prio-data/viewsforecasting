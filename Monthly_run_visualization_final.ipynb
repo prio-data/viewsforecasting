{
 "cells": [
  {
   "cell_type": "markdown",
   "id": "d823d593-256a-4fba-82f7-c1e7e63e6ef7",
   "metadata": {},
   "source": [
    "# Monthly results presentation"
   ]
  },
  {
   "cell_type": "markdown",
   "id": "233327ae-377f-4be8-a196-888af45e998c",
   "metadata": {},
   "source": [
    "Ensure the correct version of the mapper is installed. Version 1.10.1. This notebook needs to be in the main folder of the viewforecasting to properly connect to the .py files located in the Tools.visualization_assetts subfolder. \n",
    "\n",
    "Run \"pip install views_mapper2 --upgrade\" if out of date"
   ]
  },
  {
   "cell_type": "code",
   "execution_count": null,
   "id": "e5320cc1-bc82-4e81-a23b-a026a80b6f8a",
   "metadata": {},
   "outputs": [],
   "source": [
    "#step 1 ensure the correct version of views_mapper is used\n",
    "!pip freeze | grep views-mapper2"
   ]
  },
  {
   "cell_type": "markdown",
   "id": "a1e91aa1-f609-4571-80bc-4d83d5c277fa",
   "metadata": {},
   "source": [
    "# Defining universals"
   ]
  },
  {
   "cell_type": "markdown",
   "id": "dd04800e-e28b-492b-bcf7-a7d6669a8c25",
   "metadata": {},
   "source": [
    "## Define the run specific"
   ]
  },
  {
   "cell_type": "code",
   "execution_count": null,
   "id": "e82b3d5f-0555-44a5-a7dc-836cffbb94ac",
   "metadata": {},
   "outputs": [],
   "source": [
    "#there are several .py config files that are available, \n",
    "#config 1 is the most important and must be changed every time. go to tools/visualization_assetts folder and open the config 1. Make a choice for each of the inputs there, save and then run the code below\n",
    "\n",
    "#if you do not like what is written in the sanity check 1, e.g., change config 1 and try again. If you do not like the steps, change config 2. Note that notebooks occasionally have to be reloaded to see changes in .py files. \n",
    "\n",
    "#please note that the notebook will write to dropbox, ensure that the run you are doing is not a repeat by looking at the dropbox to see if there is no matching model/time periods\n",
    "#the folder of destination is in the DataReleases/MonthlyUpdates/master_visualization_output_folder\n",
    "\n",
    "from Tools.visualization_assetts.config2 import *\n",
    "\n",
    "print(\"FIRST check below\")\n",
    "sanity_check()\n",
    "print(\"SECOND check below\")\n",
    "sanity_check2()"
   ]
  },
  {
   "cell_type": "code",
   "execution_count": null,
   "id": "98cb1620-94bb-47f6-acfe-e842694903f0",
   "metadata": {},
   "outputs": [],
   "source": [
    "#this is the full run\n",
    "\n",
    "#ensuring querysets exist and are stored from run to run\n",
    "from Tools.visualization_assetts.monthly_report_visualization_queryset import *\n",
    "publish_querysets()\n",
    "\n",
    "#SAR_logo needed for the non-map graphs\n",
    "from Tools.visualization_assetts.SAR_logo_import import *\n",
    "SAR_logo = import_SAR_logo()\n",
    "\n",
    "from Tools.visualization_assetts.folder_creation import*\n",
    "make_folders()\n",
    "\n",
    "#the chunk for feature maps at cm level\n",
    "from Tools.visualization_assetts.features_cm import*\n",
    "features_cm_level_mapping_ged()\n",
    "features_cm_level_mapping_ged_with_top_10()\n",
    "features_cm_maps_all_others()\n",
    "features_cm_change_maps()\n",
    "\n",
    "#the chunk for feature maps at pgm level\n",
    "from Tools.visualization_assetts.features_pgm import*\n",
    "features_pgm_maps()\n",
    "features_pgm_change_maps()\n",
    "\n",
    "#predictions maps at cm level\n",
    "from Tools.visualization_assetts.predictions_cm_maps import*\n",
    "predictions_cm_maps_cont()\n",
    "predictions_cm_maps_dich()\n",
    "predictions_cm_maps_cont_change1()\n",
    "predictions_cm_maps_cont_change2()\n",
    "predictions_cm_maps_dich_change()\n",
    "\n",
    "#predictions at cm level, line, bar and pie charts\n",
    "from Tools.visualization_assetts.predictions_cm_other import*\n",
    "predictions_cm_cont_line()\n",
    "predictions_cm_dich_line()\n",
    "predictions_cm_bar()\n",
    "predictions_cm_pie()\n",
    "\n",
    "\n",
    "from Tools.visualization_assetts.predictions_pgm_maps import*\n",
    "predictions_pgm_maps_cont()\n",
    "predictions_pgm_maps_dich()\n",
    "predictions_pgm_maps_cont_change1()\n",
    "predictions_pgm_maps_cont_change2()\n",
    "predictions_pgm_maps_dich_change()\n",
    "\n",
    "\n",
    "print(f\"{user}, congratulations you are done!\")"
   ]
  },
  {
   "cell_type": "code",
   "execution_count": null,
   "id": "56a811ee",
   "metadata": {},
   "outputs": [],
   "source": []
  }
 ],
 "metadata": {
  "kernelspec": {
   "display_name": "Python 3 (ipykernel)",
   "language": "python",
   "name": "python3"
  },
  "language_info": {
   "codemirror_mode": {
    "name": "ipython",
    "version": 3
   },
   "file_extension": ".py",
   "mimetype": "text/x-python",
   "name": "python",
   "nbconvert_exporter": "python",
   "pygments_lexer": "ipython3",
   "version": "3.10.9"
  }
 },
 "nbformat": 4,
 "nbformat_minor": 5
}
